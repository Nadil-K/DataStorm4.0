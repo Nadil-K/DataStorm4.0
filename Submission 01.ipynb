{
 "cells": [
  {
   "cell_type": "code",
   "execution_count": 1,
   "id": "f1e9f690",
   "metadata": {
    "_cell_guid": "b1076dfc-b9ad-4769-8c92-a6c4dae69d19",
    "_uuid": "8f2839f25d086af736a60e9eeb907d3b93b6e0e5",
    "execution": {
     "iopub.execute_input": "2023-04-26T19:15:27.259611Z",
     "iopub.status.busy": "2023-04-26T19:15:27.259108Z",
     "iopub.status.idle": "2023-04-26T19:15:27.272296Z",
     "shell.execute_reply": "2023-04-26T19:15:27.271622Z"
    },
    "papermill": {
     "duration": 0.023931,
     "end_time": "2023-04-26T19:15:27.274417",
     "exception": false,
     "start_time": "2023-04-26T19:15:27.250486",
     "status": "completed"
    },
    "tags": []
   },
   "outputs": [
    {
     "name": "stdout",
     "output_type": "stream",
     "text": [
      "/kaggle/input/data-storm-4/Data-dictionary.xlsx\n",
      "/kaggle/input/data-storm-4/DataStorm4.0_KaggleProblemStatement.pdf\n",
      "/kaggle/input/data-storm-4/Store-info.csv\n",
      "/kaggle/input/data-storm-4/Testing-data.csv\n",
      "/kaggle/input/data-storm-4/Historical-transaction-data.csv\n"
     ]
    }
   ],
   "source": [
    "# This Python 3 environment comes with many helpful analytics libraries installed\n",
    "# It is defined by the kaggle/python Docker image: https://github.com/kaggle/docker-python\n",
    "# For example, here's several helpful packages to load\n",
    "\n",
    "import numpy as np # linear algebra\n",
    "import pandas as pd # data processing, CSV file I/O (e.g. pd.read_csv)\n",
    "\n",
    "# Input data files are available in the read-only \"../input/\" directory\n",
    "# For example, running this (by clicking run or pressing Shift+Enter) will list all files under the input directory\n",
    "\n",
    "import os\n",
    "for dirname, _, filenames in os.walk('/kaggle/input'):\n",
    "    for filename in filenames:\n",
    "        print(os.path.join(dirname, filename))\n",
    "\n",
    "# You can write up to 20GB to the current directory (/kaggle/working/) that gets preserved as output when you create a version using \"Save & Run All\" \n",
    "# You can also write temporary files to /kaggle/temp/, but they won't be saved outside of the current session"
   ]
  },
  {
   "cell_type": "code",
   "execution_count": 2,
   "id": "c4b609bf",
   "metadata": {
    "execution": {
     "iopub.execute_input": "2023-04-26T19:15:27.286185Z",
     "iopub.status.busy": "2023-04-26T19:15:27.285878Z",
     "iopub.status.idle": "2023-04-26T19:15:29.330441Z",
     "shell.execute_reply": "2023-04-26T19:15:29.329467Z"
    },
    "papermill": {
     "duration": 2.052826,
     "end_time": "2023-04-26T19:15:29.332964",
     "exception": false,
     "start_time": "2023-04-26T19:15:27.280138",
     "status": "completed"
    },
    "tags": []
   },
   "outputs": [],
   "source": [
    "from sklearn.preprocessing import LabelEncoder\n",
    "\n",
    "df_store = pd.read_csv('/kaggle/input/data-storm-4/Store-info.csv')\n",
    "df_test = pd.read_csv('/kaggle/input/data-storm-4/Testing-data.csv')\n",
    "df_transac = pd.read_csv('/kaggle/input/data-storm-4/Historical-transaction-data.csv')\n",
    "\n",
    "merged_df_test = pd.merge(df_transac, df_store[['shop_id', 'shop_area_sq_ft', 'shop_profile']], on='shop_id')\n",
    "merged_df_test = merged_df_test.drop(columns = ['invoice_id', 'item_description'])"
   ]
  },
  {
   "cell_type": "code",
   "execution_count": 3,
   "id": "0fb7d2ef",
   "metadata": {
    "execution": {
     "iopub.execute_input": "2023-04-26T19:15:29.345964Z",
     "iopub.status.busy": "2023-04-26T19:15:29.345385Z",
     "iopub.status.idle": "2023-04-26T19:15:29.456877Z",
     "shell.execute_reply": "2023-04-26T19:15:29.455465Z"
    },
    "papermill": {
     "duration": 0.120196,
     "end_time": "2023-04-26T19:15:29.459147",
     "exception": false,
     "start_time": "2023-04-26T19:15:29.338951",
     "status": "completed"
    },
    "tags": []
   },
   "outputs": [
    {
     "name": "stdout",
     "output_type": "stream",
     "text": [
      "<class 'pandas.core.frame.DataFrame'>\n",
      "Int64Index: 473974 entries, 0 to 473973\n",
      "Data columns (total 7 columns):\n",
      " #   Column            Non-Null Count   Dtype \n",
      "---  ------            --------------   ----- \n",
      " 0   transaction_date  473974 non-null  object\n",
      " 1   customer_id       473974 non-null  object\n",
      " 2   shop_id           473974 non-null  object\n",
      " 3   item_price        473974 non-null  int64 \n",
      " 4   quantity_sold     473974 non-null  int64 \n",
      " 5   shop_area_sq_ft   473974 non-null  int64 \n",
      " 6   shop_profile      387341 non-null  object\n",
      "dtypes: int64(3), object(4)\n",
      "memory usage: 28.9+ MB\n"
     ]
    }
   ],
   "source": [
    "merged_df_test.info()"
   ]
  },
  {
   "cell_type": "code",
   "execution_count": 4,
   "id": "1da4dc14",
   "metadata": {
    "execution": {
     "iopub.execute_input": "2023-04-26T19:15:29.471681Z",
     "iopub.status.busy": "2023-04-26T19:15:29.471337Z",
     "iopub.status.idle": "2023-04-26T19:15:29.706122Z",
     "shell.execute_reply": "2023-04-26T19:15:29.704366Z"
    },
    "papermill": {
     "duration": 0.245723,
     "end_time": "2023-04-26T19:15:29.710524",
     "exception": false,
     "start_time": "2023-04-26T19:15:29.464801",
     "status": "completed"
    },
    "tags": []
   },
   "outputs": [],
   "source": [
    "median_quantity_sold = merged_df_test[merged_df_test['quantity_sold'] > 0]['quantity_sold'].median()\n",
    "\n",
    "merged_df_test['quantity_sold'] = merged_df_test['quantity_sold'].apply(lambda x: median_quantity_sold if x <= 0 else x)"
   ]
  },
  {
   "cell_type": "code",
   "execution_count": 5,
   "id": "c612db33",
   "metadata": {
    "execution": {
     "iopub.execute_input": "2023-04-26T19:15:29.728855Z",
     "iopub.status.busy": "2023-04-26T19:15:29.727903Z",
     "iopub.status.idle": "2023-04-26T19:15:29.793873Z",
     "shell.execute_reply": "2023-04-26T19:15:29.792715Z"
    },
    "papermill": {
     "duration": 0.079148,
     "end_time": "2023-04-26T19:15:29.796401",
     "exception": false,
     "start_time": "2023-04-26T19:15:29.717253",
     "status": "completed"
    },
    "tags": []
   },
   "outputs": [
    {
     "data": {
      "text/html": [
       "<div>\n",
       "<style scoped>\n",
       "    .dataframe tbody tr th:only-of-type {\n",
       "        vertical-align: middle;\n",
       "    }\n",
       "\n",
       "    .dataframe tbody tr th {\n",
       "        vertical-align: top;\n",
       "    }\n",
       "\n",
       "    .dataframe thead th {\n",
       "        text-align: right;\n",
       "    }\n",
       "</style>\n",
       "<table border=\"1\" class=\"dataframe\">\n",
       "  <thead>\n",
       "    <tr style=\"text-align: right;\">\n",
       "      <th></th>\n",
       "      <th>shop_id</th>\n",
       "      <th>revenue</th>\n",
       "    </tr>\n",
       "  </thead>\n",
       "  <tbody>\n",
       "    <tr>\n",
       "      <th>0</th>\n",
       "      <td>SHOP001</td>\n",
       "      <td>1500655.0</td>\n",
       "    </tr>\n",
       "    <tr>\n",
       "      <th>1</th>\n",
       "      <td>SHOP002</td>\n",
       "      <td>3111825.0</td>\n",
       "    </tr>\n",
       "    <tr>\n",
       "      <th>2</th>\n",
       "      <td>SHOP003</td>\n",
       "      <td>1942645.0</td>\n",
       "    </tr>\n",
       "    <tr>\n",
       "      <th>3</th>\n",
       "      <td>SHOP004</td>\n",
       "      <td>1593650.0</td>\n",
       "    </tr>\n",
       "    <tr>\n",
       "      <th>4</th>\n",
       "      <td>SHOP005</td>\n",
       "      <td>2168730.0</td>\n",
       "    </tr>\n",
       "    <tr>\n",
       "      <th>...</th>\n",
       "      <td>...</td>\n",
       "      <td>...</td>\n",
       "    </tr>\n",
       "    <tr>\n",
       "      <th>79</th>\n",
       "      <td>SHOP081</td>\n",
       "      <td>2085310.0</td>\n",
       "    </tr>\n",
       "    <tr>\n",
       "      <th>80</th>\n",
       "      <td>SHOP082</td>\n",
       "      <td>2732445.0</td>\n",
       "    </tr>\n",
       "    <tr>\n",
       "      <th>81</th>\n",
       "      <td>SHOP083</td>\n",
       "      <td>1712685.0</td>\n",
       "    </tr>\n",
       "    <tr>\n",
       "      <th>82</th>\n",
       "      <td>SHOP084</td>\n",
       "      <td>2962040.0</td>\n",
       "    </tr>\n",
       "    <tr>\n",
       "      <th>83</th>\n",
       "      <td>SHOP085</td>\n",
       "      <td>1806615.0</td>\n",
       "    </tr>\n",
       "  </tbody>\n",
       "</table>\n",
       "<p>84 rows × 2 columns</p>\n",
       "</div>"
      ],
      "text/plain": [
       "    shop_id    revenue\n",
       "0   SHOP001  1500655.0\n",
       "1   SHOP002  3111825.0\n",
       "2   SHOP003  1942645.0\n",
       "3   SHOP004  1593650.0\n",
       "4   SHOP005  2168730.0\n",
       "..      ...        ...\n",
       "79  SHOP081  2085310.0\n",
       "80  SHOP082  2732445.0\n",
       "81  SHOP083  1712685.0\n",
       "82  SHOP084  2962040.0\n",
       "83  SHOP085  1806615.0\n",
       "\n",
       "[84 rows x 2 columns]"
      ]
     },
     "execution_count": 5,
     "metadata": {},
     "output_type": "execute_result"
    }
   ],
   "source": [
    "merged_df_test['revenue'] = merged_df_test['item_price'] * merged_df_test['quantity_sold']\n",
    "total_revenue_per_store = merged_df_test.groupby('shop_id')['revenue'].sum().reset_index()\n",
    "\n",
    "total_revenue_per_store.head(84)"
   ]
  },
  {
   "cell_type": "code",
   "execution_count": 6,
   "id": "6bc0a277",
   "metadata": {
    "execution": {
     "iopub.execute_input": "2023-04-26T19:15:29.810099Z",
     "iopub.status.busy": "2023-04-26T19:15:29.809241Z",
     "iopub.status.idle": "2023-04-26T19:15:30.093168Z",
     "shell.execute_reply": "2023-04-26T19:15:30.092075Z"
    },
    "papermill": {
     "duration": 0.293475,
     "end_time": "2023-04-26T19:15:30.095895",
     "exception": false,
     "start_time": "2023-04-26T19:15:29.802420",
     "status": "completed"
    },
    "tags": []
   },
   "outputs": [],
   "source": [
    "merged_df_test['transaction_date'] = pd.to_datetime(merged_df_test['transaction_date'])\n",
    "\n",
    "merged_df_test['day_of_week'] = merged_df_test['transaction_date'].dt.dayofweek\n",
    "merged_df_test['month'] = merged_df_test['transaction_date'].dt.month\n",
    "merged_df_test['year'] = merged_df_test['transaction_date'].dt.year\n",
    "\n",
    "monthly_sales = merged_df_test.groupby(['shop_id', 'month'])['quantity_sold'].sum().reset_index()\n",
    "monthly_sales.columns = ['shop_id', 'month', 'monthly_total_sales']"
   ]
  },
  {
   "cell_type": "code",
   "execution_count": 7,
   "id": "6732b510",
   "metadata": {
    "execution": {
     "iopub.execute_input": "2023-04-26T19:15:30.109407Z",
     "iopub.status.busy": "2023-04-26T19:15:30.108692Z",
     "iopub.status.idle": "2023-04-26T19:15:30.120216Z",
     "shell.execute_reply": "2023-04-26T19:15:30.119247Z"
    },
    "papermill": {
     "duration": 0.020573,
     "end_time": "2023-04-26T19:15:30.122344",
     "exception": false,
     "start_time": "2023-04-26T19:15:30.101771",
     "status": "completed"
    },
    "tags": []
   },
   "outputs": [
    {
     "data": {
      "text/html": [
       "<div>\n",
       "<style scoped>\n",
       "    .dataframe tbody tr th:only-of-type {\n",
       "        vertical-align: middle;\n",
       "    }\n",
       "\n",
       "    .dataframe tbody tr th {\n",
       "        vertical-align: top;\n",
       "    }\n",
       "\n",
       "    .dataframe thead th {\n",
       "        text-align: right;\n",
       "    }\n",
       "</style>\n",
       "<table border=\"1\" class=\"dataframe\">\n",
       "  <thead>\n",
       "    <tr style=\"text-align: right;\">\n",
       "      <th></th>\n",
       "      <th>shop_id</th>\n",
       "      <th>month</th>\n",
       "      <th>monthly_total_sales</th>\n",
       "    </tr>\n",
       "  </thead>\n",
       "  <tbody>\n",
       "    <tr>\n",
       "      <th>0</th>\n",
       "      <td>SHOP001</td>\n",
       "      <td>10</td>\n",
       "      <td>1129.0</td>\n",
       "    </tr>\n",
       "    <tr>\n",
       "      <th>1</th>\n",
       "      <td>SHOP001</td>\n",
       "      <td>11</td>\n",
       "      <td>1514.0</td>\n",
       "    </tr>\n",
       "    <tr>\n",
       "      <th>2</th>\n",
       "      <td>SHOP001</td>\n",
       "      <td>12</td>\n",
       "      <td>1379.0</td>\n",
       "    </tr>\n",
       "    <tr>\n",
       "      <th>3</th>\n",
       "      <td>SHOP002</td>\n",
       "      <td>10</td>\n",
       "      <td>2608.0</td>\n",
       "    </tr>\n",
       "    <tr>\n",
       "      <th>4</th>\n",
       "      <td>SHOP002</td>\n",
       "      <td>11</td>\n",
       "      <td>3979.0</td>\n",
       "    </tr>\n",
       "  </tbody>\n",
       "</table>\n",
       "</div>"
      ],
      "text/plain": [
       "   shop_id  month  monthly_total_sales\n",
       "0  SHOP001     10               1129.0\n",
       "1  SHOP001     11               1514.0\n",
       "2  SHOP001     12               1379.0\n",
       "3  SHOP002     10               2608.0\n",
       "4  SHOP002     11               3979.0"
      ]
     },
     "execution_count": 7,
     "metadata": {},
     "output_type": "execute_result"
    }
   ],
   "source": [
    "monthly_sales.head()"
   ]
  },
  {
   "cell_type": "code",
   "execution_count": 8,
   "id": "c6fda4aa",
   "metadata": {
    "execution": {
     "iopub.execute_input": "2023-04-26T19:15:30.136109Z",
     "iopub.status.busy": "2023-04-26T19:15:30.135248Z",
     "iopub.status.idle": "2023-04-26T19:15:31.301805Z",
     "shell.execute_reply": "2023-04-26T19:15:31.300931Z"
    },
    "papermill": {
     "duration": 1.175848,
     "end_time": "2023-04-26T19:15:31.304226",
     "exception": false,
     "start_time": "2023-04-26T19:15:30.128378",
     "status": "completed"
    },
    "tags": []
   },
   "outputs": [
    {
     "data": {
      "text/plain": [
       "<seaborn.axisgrid.PairGrid at 0x708c8fafbf50>"
      ]
     },
     "execution_count": 8,
     "metadata": {},
     "output_type": "execute_result"
    },
    {
     "data": {
      "image/png": "[encoded data removed]",
      "text/plain": [
       "<Figure size 500x500 with 6 Axes>"
      ]
     },
     "metadata": {},
     "output_type": "display_data"
    }
   ],
   "source": [
    "import seaborn as sns\n",
    "\n",
    "sns.pairplot(monthly_sales)"
   ]
  },
  {
   "cell_type": "code",
   "execution_count": 9,
   "id": "680dedc7",
   "metadata": {
    "execution": {
     "iopub.execute_input": "2023-04-26T19:15:31.318946Z",
     "iopub.status.busy": "2023-04-26T19:15:31.318382Z",
     "iopub.status.idle": "2023-04-26T19:15:31.333142Z",
     "shell.execute_reply": "2023-04-26T19:15:31.332153Z"
    },
    "papermill": {
     "duration": 0.024432,
     "end_time": "2023-04-26T19:15:31.335358",
     "exception": false,
     "start_time": "2023-04-26T19:15:31.310926",
     "status": "completed"
    },
    "tags": []
   },
   "outputs": [
    {
     "data": {
      "text/html": [
       "<div>\n",
       "<style scoped>\n",
       "    .dataframe tbody tr th:only-of-type {\n",
       "        vertical-align: middle;\n",
       "    }\n",
       "\n",
       "    .dataframe tbody tr th {\n",
       "        vertical-align: top;\n",
       "    }\n",
       "\n",
       "    .dataframe thead th {\n",
       "        text-align: right;\n",
       "    }\n",
       "</style>\n",
       "<table border=\"1\" class=\"dataframe\">\n",
       "  <thead>\n",
       "    <tr style=\"text-align: right;\">\n",
       "      <th></th>\n",
       "      <th>transaction_date</th>\n",
       "      <th>customer_id</th>\n",
       "      <th>shop_id</th>\n",
       "      <th>item_price</th>\n",
       "      <th>quantity_sold</th>\n",
       "      <th>shop_area_sq_ft</th>\n",
       "      <th>shop_profile</th>\n",
       "      <th>revenue</th>\n",
       "      <th>day_of_week</th>\n",
       "      <th>month</th>\n",
       "      <th>year</th>\n",
       "    </tr>\n",
       "  </thead>\n",
       "  <tbody>\n",
       "    <tr>\n",
       "      <th>0</th>\n",
       "      <td>2021-12-11 00:00:00+00:00</td>\n",
       "      <td>BGXA</td>\n",
       "      <td>SHOP008</td>\n",
       "      <td>220</td>\n",
       "      <td>2.0</td>\n",
       "      <td>678</td>\n",
       "      <td>Moderate</td>\n",
       "      <td>440.0</td>\n",
       "      <td>5</td>\n",
       "      <td>12</td>\n",
       "      <td>2021</td>\n",
       "    </tr>\n",
       "    <tr>\n",
       "      <th>1</th>\n",
       "      <td>2021-12-13 00:00:00+00:00</td>\n",
       "      <td>VN7V</td>\n",
       "      <td>SHOP008</td>\n",
       "      <td>160</td>\n",
       "      <td>2.0</td>\n",
       "      <td>678</td>\n",
       "      <td>Moderate</td>\n",
       "      <td>320.0</td>\n",
       "      <td>0</td>\n",
       "      <td>12</td>\n",
       "      <td>2021</td>\n",
       "    </tr>\n",
       "    <tr>\n",
       "      <th>2</th>\n",
       "      <td>2021-12-13 00:00:00+00:00</td>\n",
       "      <td>VN7V</td>\n",
       "      <td>SHOP008</td>\n",
       "      <td>150</td>\n",
       "      <td>2.0</td>\n",
       "      <td>678</td>\n",
       "      <td>Moderate</td>\n",
       "      <td>300.0</td>\n",
       "      <td>0</td>\n",
       "      <td>12</td>\n",
       "      <td>2021</td>\n",
       "    </tr>\n",
       "    <tr>\n",
       "      <th>3</th>\n",
       "      <td>2021-12-10 00:00:00+00:00</td>\n",
       "      <td>VT9C</td>\n",
       "      <td>SHOP008</td>\n",
       "      <td>220</td>\n",
       "      <td>1.0</td>\n",
       "      <td>678</td>\n",
       "      <td>Moderate</td>\n",
       "      <td>220.0</td>\n",
       "      <td>4</td>\n",
       "      <td>12</td>\n",
       "      <td>2021</td>\n",
       "    </tr>\n",
       "    <tr>\n",
       "      <th>4</th>\n",
       "      <td>2021-12-10 00:00:00+00:00</td>\n",
       "      <td>8QLS</td>\n",
       "      <td>SHOP008</td>\n",
       "      <td>440</td>\n",
       "      <td>1.0</td>\n",
       "      <td>678</td>\n",
       "      <td>Moderate</td>\n",
       "      <td>440.0</td>\n",
       "      <td>4</td>\n",
       "      <td>12</td>\n",
       "      <td>2021</td>\n",
       "    </tr>\n",
       "  </tbody>\n",
       "</table>\n",
       "</div>"
      ],
      "text/plain": [
       "           transaction_date customer_id  shop_id  item_price  quantity_sold  \\\n",
       "0 2021-12-11 00:00:00+00:00        BGXA  SHOP008         220            2.0   \n",
       "1 2021-12-13 00:00:00+00:00        VN7V  SHOP008         160            2.0   \n",
       "2 2021-12-13 00:00:00+00:00        VN7V  SHOP008         150            2.0   \n",
       "3 2021-12-10 00:00:00+00:00        VT9C  SHOP008         220            1.0   \n",
       "4 2021-12-10 00:00:00+00:00        8QLS  SHOP008         440            1.0   \n",
       "\n",
       "   shop_area_sq_ft shop_profile  revenue  day_of_week  month  year  \n",
       "0              678     Moderate    440.0            5     12  2021  \n",
       "1              678     Moderate    320.0            0     12  2021  \n",
       "2              678     Moderate    300.0            0     12  2021  \n",
       "3              678     Moderate    220.0            4     12  2021  \n",
       "4              678     Moderate    440.0            4     12  2021  "
      ]
     },
     "execution_count": 9,
     "metadata": {},
     "output_type": "execute_result"
    }
   ],
   "source": [
    "merged_df_test.head()"
   ]
  },
  {
   "cell_type": "code",
   "execution_count": 10,
   "id": "0f770419",
   "metadata": {
    "execution": {
     "iopub.execute_input": "2023-04-26T19:15:31.349913Z",
     "iopub.status.busy": "2023-04-26T19:15:31.349408Z",
     "iopub.status.idle": "2023-04-26T19:15:31.512393Z",
     "shell.execute_reply": "2023-04-26T19:15:31.511335Z"
    },
    "papermill": {
     "duration": 0.17261,
     "end_time": "2023-04-26T19:15:31.514591",
     "exception": false,
     "start_time": "2023-04-26T19:15:31.341981",
     "status": "completed"
    },
    "tags": []
   },
   "outputs": [
    {
     "data": {
      "text/html": [
       "<div>\n",
       "<style scoped>\n",
       "    .dataframe tbody tr th:only-of-type {\n",
       "        vertical-align: middle;\n",
       "    }\n",
       "\n",
       "    .dataframe tbody tr th {\n",
       "        vertical-align: top;\n",
       "    }\n",
       "\n",
       "    .dataframe thead th {\n",
       "        text-align: right;\n",
       "    }\n",
       "</style>\n",
       "<table border=\"1\" class=\"dataframe\">\n",
       "  <thead>\n",
       "    <tr style=\"text-align: right;\">\n",
       "      <th></th>\n",
       "      <th>shop_id</th>\n",
       "      <th>unique_customers</th>\n",
       "    </tr>\n",
       "  </thead>\n",
       "  <tbody>\n",
       "    <tr>\n",
       "      <th>0</th>\n",
       "      <td>SHOP001</td>\n",
       "      <td>1118</td>\n",
       "    </tr>\n",
       "    <tr>\n",
       "      <th>1</th>\n",
       "      <td>SHOP002</td>\n",
       "      <td>2577</td>\n",
       "    </tr>\n",
       "    <tr>\n",
       "      <th>2</th>\n",
       "      <td>SHOP003</td>\n",
       "      <td>2064</td>\n",
       "    </tr>\n",
       "    <tr>\n",
       "      <th>3</th>\n",
       "      <td>SHOP004</td>\n",
       "      <td>1744</td>\n",
       "    </tr>\n",
       "    <tr>\n",
       "      <th>4</th>\n",
       "      <td>SHOP005</td>\n",
       "      <td>2203</td>\n",
       "    </tr>\n",
       "  </tbody>\n",
       "</table>\n",
       "</div>"
      ],
      "text/plain": [
       "   shop_id  unique_customers\n",
       "0  SHOP001              1118\n",
       "1  SHOP002              2577\n",
       "2  SHOP003              2064\n",
       "3  SHOP004              1744\n",
       "4  SHOP005              2203"
      ]
     },
     "execution_count": 10,
     "metadata": {},
     "output_type": "execute_result"
    }
   ],
   "source": [
    "unique_customers_per_shop = merged_df_test.groupby('shop_id')['customer_id'].nunique().reset_index()\n",
    "unique_customers_per_shop.columns = ['shop_id', 'unique_customers']\n",
    "\n",
    "unique_customers_per_shop.head()"
   ]
  },
  {
   "cell_type": "code",
   "execution_count": 11,
   "id": "0f07a007",
   "metadata": {
    "execution": {
     "iopub.execute_input": "2023-04-26T19:15:31.533170Z",
     "iopub.status.busy": "2023-04-26T19:15:31.532516Z",
     "iopub.status.idle": "2023-04-26T19:15:31.552210Z",
     "shell.execute_reply": "2023-04-26T19:15:31.551294Z"
    },
    "papermill": {
     "duration": 0.031853,
     "end_time": "2023-04-26T19:15:31.554429",
     "exception": false,
     "start_time": "2023-04-26T19:15:31.522576",
     "status": "completed"
    },
    "tags": []
   },
   "outputs": [
    {
     "data": {
      "text/html": [
       "<div>\n",
       "<style scoped>\n",
       "    .dataframe tbody tr th:only-of-type {\n",
       "        vertical-align: middle;\n",
       "    }\n",
       "\n",
       "    .dataframe tbody tr th {\n",
       "        vertical-align: top;\n",
       "    }\n",
       "\n",
       "    .dataframe thead th {\n",
       "        text-align: right;\n",
       "    }\n",
       "</style>\n",
       "<table border=\"1\" class=\"dataframe\">\n",
       "  <thead>\n",
       "    <tr style=\"text-align: right;\">\n",
       "      <th></th>\n",
       "      <th>shop_id</th>\n",
       "      <th>shop_area_sq_ft</th>\n",
       "      <th>shop_profile</th>\n",
       "      <th>revenue</th>\n",
       "      <th>unique_customers</th>\n",
       "    </tr>\n",
       "  </thead>\n",
       "  <tbody>\n",
       "    <tr>\n",
       "      <th>0</th>\n",
       "      <td>SHOP047</td>\n",
       "      <td>528</td>\n",
       "      <td>Moderate</td>\n",
       "      <td>851850.0</td>\n",
       "      <td>928</td>\n",
       "    </tr>\n",
       "    <tr>\n",
       "      <th>1</th>\n",
       "      <td>SHOP009</td>\n",
       "      <td>676</td>\n",
       "      <td>High</td>\n",
       "      <td>1994030.0</td>\n",
       "      <td>2498</td>\n",
       "    </tr>\n",
       "    <tr>\n",
       "      <th>2</th>\n",
       "      <td>SHOP083</td>\n",
       "      <td>676</td>\n",
       "      <td>Low</td>\n",
       "      <td>1712685.0</td>\n",
       "      <td>1900</td>\n",
       "    </tr>\n",
       "    <tr>\n",
       "      <th>3</th>\n",
       "      <td>SHOP117</td>\n",
       "      <td>676</td>\n",
       "      <td>Low</td>\n",
       "      <td>2344760.0</td>\n",
       "      <td>2037</td>\n",
       "    </tr>\n",
       "    <tr>\n",
       "      <th>4</th>\n",
       "      <td>SHOP042</td>\n",
       "      <td>676</td>\n",
       "      <td>Low</td>\n",
       "      <td>1357965.0</td>\n",
       "      <td>1841</td>\n",
       "    </tr>\n",
       "  </tbody>\n",
       "</table>\n",
       "</div>"
      ],
      "text/plain": [
       "   shop_id  shop_area_sq_ft shop_profile    revenue  unique_customers\n",
       "0  SHOP047              528     Moderate   851850.0               928\n",
       "1  SHOP009              676         High  1994030.0              2498\n",
       "2  SHOP083              676          Low  1712685.0              1900\n",
       "3  SHOP117              676          Low  2344760.0              2037\n",
       "4  SHOP042              676          Low  1357965.0              1841"
      ]
     },
     "execution_count": 11,
     "metadata": {},
     "output_type": "execute_result"
    }
   ],
   "source": [
    "df_store_new = pd.merge(df_store, total_revenue_per_store[['shop_id', 'revenue']], on='shop_id')\n",
    "df_store_new = pd.merge(df_store_new, unique_customers_per_shop[['shop_id', 'unique_customers']], on='shop_id')\n",
    "\n",
    "df_store_new.head()"
   ]
  },
  {
   "cell_type": "code",
   "execution_count": 12,
   "id": "f279428f",
   "metadata": {
    "execution": {
     "iopub.execute_input": "2023-04-26T19:15:31.570880Z",
     "iopub.status.busy": "2023-04-26T19:15:31.570591Z",
     "iopub.status.idle": "2023-04-26T19:15:31.574682Z",
     "shell.execute_reply": "2023-04-26T19:15:31.573798Z"
    },
    "papermill": {
     "duration": 0.014584,
     "end_time": "2023-04-26T19:15:31.577037",
     "exception": false,
     "start_time": "2023-04-26T19:15:31.562453",
     "status": "completed"
    },
    "tags": []
   },
   "outputs": [],
   "source": [
    "df_store_train = df_store_new.head(100)\n",
    "df_store_test = df_store_new.tail(24)"
   ]
  },
  {
   "cell_type": "code",
   "execution_count": 13,
   "id": "2d3a2979",
   "metadata": {
    "execution": {
     "iopub.execute_input": "2023-04-26T19:15:31.591855Z",
     "iopub.status.busy": "2023-04-26T19:15:31.591586Z",
     "iopub.status.idle": "2023-04-26T19:15:31.598576Z",
     "shell.execute_reply": "2023-04-26T19:15:31.597765Z"
    },
    "papermill": {
     "duration": 0.016656,
     "end_time": "2023-04-26T19:15:31.600585",
     "exception": false,
     "start_time": "2023-04-26T19:15:31.583929",
     "status": "completed"
    },
    "tags": []
   },
   "outputs": [],
   "source": [
    "df_y = pd.DataFrame(df_store_train['shop_profile'])\n",
    "df_store_train = df_store_train.drop(columns = ['shop_profile'])\n",
    "df_y_pred = df_store_test.drop(columns = ['shop_profile'])"
   ]
  },
  {
   "cell_type": "code",
   "execution_count": 14,
   "id": "1f6fba9a",
   "metadata": {
    "execution": {
     "iopub.execute_input": "2023-04-26T19:15:31.616098Z",
     "iopub.status.busy": "2023-04-26T19:15:31.615763Z",
     "iopub.status.idle": "2023-04-26T19:15:31.780806Z",
     "shell.execute_reply": "2023-04-26T19:15:31.779421Z"
    },
    "papermill": {
     "duration": 0.175143,
     "end_time": "2023-04-26T19:15:31.782752",
     "exception": true,
     "start_time": "2023-04-26T19:15:31.607609",
     "status": "failed"
    },
    "tags": []
   },
   "outputs": [
    {
     "ename": "KeyError",
     "evalue": "\"['shop_profile'] not found in axis\"",
     "output_type": "error",
     "traceback": [
      "\u001b[0;31m---------------------------------------------------------------------------\u001b[0m",
      "\u001b[0;31mKeyError\u001b[0m                                  Traceback (most recent call last)",
      "\u001b[0;32m/tmp/ipykernel_19/3690226796.py\u001b[0m in \u001b[0;36m<module>\u001b[0;34m\u001b[0m\n\u001b[1;32m      1\u001b[0m \u001b[0;32mfrom\u001b[0m \u001b[0msklearn\u001b[0m\u001b[0;34m.\u001b[0m\u001b[0mmodel_selection\u001b[0m \u001b[0;32mimport\u001b[0m \u001b[0mtrain_test_split\u001b[0m\u001b[0;34m\u001b[0m\u001b[0;34m\u001b[0m\u001b[0m\n\u001b[1;32m      2\u001b[0m \u001b[0;34m\u001b[0m\u001b[0m\n\u001b[0;32m----> 3\u001b[0;31m \u001b[0mX\u001b[0m \u001b[0;34m=\u001b[0m \u001b[0mdf_store_train\u001b[0m\u001b[0;34m.\u001b[0m\u001b[0mdrop\u001b[0m\u001b[0;34m(\u001b[0m\u001b[0;34m'shop_profile'\u001b[0m\u001b[0;34m,\u001b[0m \u001b[0maxis\u001b[0m\u001b[0;34m=\u001b[0m\u001b[0;36m1\u001b[0m\u001b[0;34m)\u001b[0m\u001b[0;34m\u001b[0m\u001b[0;34m\u001b[0m\u001b[0m\n\u001b[0m\u001b[1;32m      4\u001b[0m \u001b[0my\u001b[0m \u001b[0;34m=\u001b[0m \u001b[0mdf_store_train\u001b[0m\u001b[0;34m[\u001b[0m\u001b[0;34m'shop_profile'\u001b[0m\u001b[0;34m]\u001b[0m\u001b[0;34m\u001b[0m\u001b[0;34m\u001b[0m\u001b[0m\n\u001b[1;32m      5\u001b[0m \u001b[0;34m\u001b[0m\u001b[0m\n",
      "\u001b[0;32m/opt/conda/lib/python3.7/site-packages/pandas/util/_decorators.py\u001b[0m in \u001b[0;36mwrapper\u001b[0;34m(*args, **kwargs)\u001b[0m\n\u001b[1;32m    309\u001b[0m                     \u001b[0mstacklevel\u001b[0m\u001b[0;34m=\u001b[0m\u001b[0mstacklevel\u001b[0m\u001b[0;34m,\u001b[0m\u001b[0;34m\u001b[0m\u001b[0;34m\u001b[0m\u001b[0m\n\u001b[1;32m    310\u001b[0m                 )\n\u001b[0;32m--> 311\u001b[0;31m             \u001b[0;32mreturn\u001b[0m \u001b[0mfunc\u001b[0m\u001b[0;34m(\u001b[0m\u001b[0;34m*\u001b[0m\u001b[0margs\u001b[0m\u001b[0;34m,\u001b[0m \u001b[0;34m**\u001b[0m\u001b[0mkwargs\u001b[0m\u001b[0;34m)\u001b[0m\u001b[0;34m\u001b[0m\u001b[0;34m\u001b[0m\u001b[0m\n\u001b[0m\u001b[1;32m    312\u001b[0m \u001b[0;34m\u001b[0m\u001b[0m\n\u001b[1;32m    313\u001b[0m         \u001b[0;32mreturn\u001b[0m \u001b[0mwrapper\u001b[0m\u001b[0;34m\u001b[0m\u001b[0;34m\u001b[0m\u001b[0m\n",
      "\u001b[0;32m/opt/conda/lib/python3.7/site-packages/pandas/core/frame.py\u001b[0m in \u001b[0;36mdrop\u001b[0;34m(self, labels, axis, index, columns, level, inplace, errors)\u001b[0m\n\u001b[1;32m   4911\u001b[0m             \u001b[0mlevel\u001b[0m\u001b[0;34m=\u001b[0m\u001b[0mlevel\u001b[0m\u001b[0;34m,\u001b[0m\u001b[0;34m\u001b[0m\u001b[0;34m\u001b[0m\u001b[0m\n\u001b[1;32m   4912\u001b[0m             \u001b[0minplace\u001b[0m\u001b[0;34m=\u001b[0m\u001b[0minplace\u001b[0m\u001b[0;34m,\u001b[0m\u001b[0;34m\u001b[0m\u001b[0;34m\u001b[0m\u001b[0m\n\u001b[0;32m-> 4913\u001b[0;31m             \u001b[0merrors\u001b[0m\u001b[0;34m=\u001b[0m\u001b[0merrors\u001b[0m\u001b[0;34m,\u001b[0m\u001b[0;34m\u001b[0m\u001b[0;34m\u001b[0m\u001b[0m\n\u001b[0m\u001b[1;32m   4914\u001b[0m         )\n\u001b[1;32m   4915\u001b[0m \u001b[0;34m\u001b[0m\u001b[0m\n",
      "\u001b[0;32m/opt/conda/lib/python3.7/site-packages/pandas/core/generic.py\u001b[0m in \u001b[0;36mdrop\u001b[0;34m(self, labels, axis, index, columns, level, inplace, errors)\u001b[0m\n\u001b[1;32m   4148\u001b[0m         \u001b[0;32mfor\u001b[0m \u001b[0maxis\u001b[0m\u001b[0;34m,\u001b[0m \u001b[0mlabels\u001b[0m \u001b[0;32min\u001b[0m \u001b[0maxes\u001b[0m\u001b[0;34m.\u001b[0m\u001b[0mitems\u001b[0m\u001b[0;34m(\u001b[0m\u001b[0;34m)\u001b[0m\u001b[0;34m:\u001b[0m\u001b[0;34m\u001b[0m\u001b[0;34m\u001b[0m\u001b[0m\n\u001b[1;32m   4149\u001b[0m             \u001b[0;32mif\u001b[0m \u001b[0mlabels\u001b[0m \u001b[0;32mis\u001b[0m \u001b[0;32mnot\u001b[0m \u001b[0;32mNone\u001b[0m\u001b[0;34m:\u001b[0m\u001b[0;34m\u001b[0m\u001b[0;34m\u001b[0m\u001b[0m\n\u001b[0;32m-> 4150\u001b[0;31m                 \u001b[0mobj\u001b[0m \u001b[0;34m=\u001b[0m \u001b[0mobj\u001b[0m\u001b[0;34m.\u001b[0m\u001b[0m_drop_axis\u001b[0m\u001b[0;34m(\u001b[0m\u001b[0mlabels\u001b[0m\u001b[0;34m,\u001b[0m \u001b[0maxis\u001b[0m\u001b[0;34m,\u001b[0m \u001b[0mlevel\u001b[0m\u001b[0;34m=\u001b[0m\u001b[0mlevel\u001b[0m\u001b[0;34m,\u001b[0m \u001b[0merrors\u001b[0m\u001b[0;34m=\u001b[0m\u001b[0merrors\u001b[0m\u001b[0;34m)\u001b[0m\u001b[0;34m\u001b[0m\u001b[0;34m\u001b[0m\u001b[0m\n\u001b[0m\u001b[1;32m   4151\u001b[0m \u001b[0;34m\u001b[0m\u001b[0m\n\u001b[1;32m   4152\u001b[0m         \u001b[0;32mif\u001b[0m \u001b[0minplace\u001b[0m\u001b[0;34m:\u001b[0m\u001b[0;34m\u001b[0m\u001b[0;34m\u001b[0m\u001b[0m\n",
      "\u001b[0;32m/opt/conda/lib/python3.7/site-packages/pandas/core/generic.py\u001b[0m in \u001b[0;36m_drop_axis\u001b[0;34m(self, labels, axis, level, errors)\u001b[0m\n\u001b[1;32m   4183\u001b[0m                 \u001b[0mnew_axis\u001b[0m \u001b[0;34m=\u001b[0m \u001b[0maxis\u001b[0m\u001b[0;34m.\u001b[0m\u001b[0mdrop\u001b[0m\u001b[0;34m(\u001b[0m\u001b[0mlabels\u001b[0m\u001b[0;34m,\u001b[0m \u001b[0mlevel\u001b[0m\u001b[0;34m=\u001b[0m\u001b[0mlevel\u001b[0m\u001b[0;34m,\u001b[0m \u001b[0merrors\u001b[0m\u001b[0;34m=\u001b[0m\u001b[0merrors\u001b[0m\u001b[0;34m)\u001b[0m\u001b[0;34m\u001b[0m\u001b[0;34m\u001b[0m\u001b[0m\n\u001b[1;32m   4184\u001b[0m             \u001b[0;32melse\u001b[0m\u001b[0;34m:\u001b[0m\u001b[0;34m\u001b[0m\u001b[0;34m\u001b[0m\u001b[0m\n\u001b[0;32m-> 4185\u001b[0;31m                 \u001b[0mnew_axis\u001b[0m \u001b[0;34m=\u001b[0m \u001b[0maxis\u001b[0m\u001b[0;34m.\u001b[0m\u001b[0mdrop\u001b[0m\u001b[0;34m(\u001b[0m\u001b[0mlabels\u001b[0m\u001b[0;34m,\u001b[0m \u001b[0merrors\u001b[0m\u001b[0;34m=\u001b[0m\u001b[0merrors\u001b[0m\u001b[0;34m)\u001b[0m\u001b[0;34m\u001b[0m\u001b[0;34m\u001b[0m\u001b[0m\n\u001b[0m\u001b[1;32m   4186\u001b[0m             \u001b[0mresult\u001b[0m \u001b[0;34m=\u001b[0m \u001b[0mself\u001b[0m\u001b[0;34m.\u001b[0m\u001b[0mreindex\u001b[0m\u001b[0;34m(\u001b[0m\u001b[0;34m**\u001b[0m\u001b[0;34m{\u001b[0m\u001b[0maxis_name\u001b[0m\u001b[0;34m:\u001b[0m \u001b[0mnew_axis\u001b[0m\u001b[0;34m}\u001b[0m\u001b[0;34m)\u001b[0m\u001b[0;34m\u001b[0m\u001b[0;34m\u001b[0m\u001b[0m\n\u001b[1;32m   4187\u001b[0m \u001b[0;34m\u001b[0m\u001b[0m\n",
      "\u001b[0;32m/opt/conda/lib/python3.7/site-packages/pandas/core/indexes/base.py\u001b[0m in \u001b[0;36mdrop\u001b[0;34m(self, labels, errors)\u001b[0m\n\u001b[1;32m   6015\u001b[0m         \u001b[0;32mif\u001b[0m \u001b[0mmask\u001b[0m\u001b[0;34m.\u001b[0m\u001b[0many\u001b[0m\u001b[0;34m(\u001b[0m\u001b[0;34m)\u001b[0m\u001b[0;34m:\u001b[0m\u001b[0;34m\u001b[0m\u001b[0;34m\u001b[0m\u001b[0m\n\u001b[1;32m   6016\u001b[0m             \u001b[0;32mif\u001b[0m \u001b[0merrors\u001b[0m \u001b[0;34m!=\u001b[0m \u001b[0;34m\"ignore\"\u001b[0m\u001b[0;34m:\u001b[0m\u001b[0;34m\u001b[0m\u001b[0;34m\u001b[0m\u001b[0m\n\u001b[0;32m-> 6017\u001b[0;31m                 \u001b[0;32mraise\u001b[0m \u001b[0mKeyError\u001b[0m\u001b[0;34m(\u001b[0m\u001b[0;34mf\"{labels[mask]} not found in axis\"\u001b[0m\u001b[0;34m)\u001b[0m\u001b[0;34m\u001b[0m\u001b[0;34m\u001b[0m\u001b[0m\n\u001b[0m\u001b[1;32m   6018\u001b[0m             \u001b[0mindexer\u001b[0m \u001b[0;34m=\u001b[0m \u001b[0mindexer\u001b[0m\u001b[0;34m[\u001b[0m\u001b[0;34m~\u001b[0m\u001b[0mmask\u001b[0m\u001b[0;34m]\u001b[0m\u001b[0;34m\u001b[0m\u001b[0;34m\u001b[0m\u001b[0m\n\u001b[1;32m   6019\u001b[0m         \u001b[0;32mreturn\u001b[0m \u001b[0mself\u001b[0m\u001b[0;34m.\u001b[0m\u001b[0mdelete\u001b[0m\u001b[0;34m(\u001b[0m\u001b[0mindexer\u001b[0m\u001b[0;34m)\u001b[0m\u001b[0;34m\u001b[0m\u001b[0;34m\u001b[0m\u001b[0m\n",
      "\u001b[0;31mKeyError\u001b[0m: \"['shop_profile'] not found in axis\""
     ]
    }
   ],
   "source": [
    "from sklearn.model_selection import train_test_split\n",
    "\n",
    "X = df_store_train.drop('shop_profile', axis=1)\n",
    "y = df_store_train['shop_profile']\n",
    "\n",
    "X_train, X_test, y_train, y_test = train_test_split(X, y, test_size=0.2, random_state=42)"
   ]
  },
  {
   "cell_type": "code",
   "execution_count": null,
   "id": "f3418604",
   "metadata": {
    "execution": {
     "iopub.execute_input": "2023-04-26T19:01:12.521377Z",
     "iopub.status.busy": "2023-04-26T19:01:12.520081Z",
     "iopub.status.idle": "2023-04-26T19:01:12.528177Z",
     "shell.execute_reply": "2023-04-26T19:01:12.526997Z",
     "shell.execute_reply.started": "2023-04-26T19:01:12.521317Z"
    },
    "papermill": {
     "duration": null,
     "end_time": null,
     "exception": null,
     "start_time": null,
     "status": "pending"
    },
    "tags": []
   },
   "outputs": [],
   "source": [
    "X_train = pd.DataFrame(X_train)\n",
    "X_test = pd.DataFrame(X_test)\n",
    "y_train = pd.DataFrame(y_train)\n",
    "y_test = pd.DataFrame(y_test)"
   ]
  },
  {
   "cell_type": "code",
   "execution_count": null,
   "id": "7c6721f4",
   "metadata": {
    "execution": {
     "iopub.execute_input": "2023-04-26T19:01:19.801098Z",
     "iopub.status.busy": "2023-04-26T19:01:19.800658Z",
     "iopub.status.idle": "2023-04-26T19:01:19.813944Z",
     "shell.execute_reply": "2023-04-26T19:01:19.812479Z",
     "shell.execute_reply.started": "2023-04-26T19:01:19.801055Z"
    },
    "papermill": {
     "duration": null,
     "end_time": null,
     "exception": null,
     "start_time": null,
     "status": "pending"
    },
    "tags": []
   },
   "outputs": [],
   "source": [
    "df_test.head(100)"
   ]
  },
  {
   "cell_type": "code",
   "execution_count": null,
   "id": "24bd53e5",
   "metadata": {
    "execution": {
     "iopub.execute_input": "2023-04-26T19:13:41.201395Z",
     "iopub.status.busy": "2023-04-26T19:13:41.200647Z",
     "iopub.status.idle": "2023-04-26T19:13:41.209892Z",
     "shell.execute_reply": "2023-04-26T19:13:41.208680Z",
     "shell.execute_reply.started": "2023-04-26T19:13:41.201351Z"
    },
    "papermill": {
     "duration": null,
     "end_time": null,
     "exception": null,
     "start_time": null,
     "status": "pending"
    },
    "tags": []
   },
   "outputs": [],
   "source": [
    "le = LabelEncoder()\n",
    "# le2 = LabelEncoder()\n",
    "\n",
    "df_store_train['shop_id'] = le.fit_transform(df_store_train['shop_id'])\n",
    "df_y_pred['shop_id'] = le.fit_transform(df_y_pred['shop_id'])\n",
    "df_y['shop_profile'] = le.fit_transform(df_y['shop_profile'])\n",
    "\n",
    "df_store_train['shop_id'] = df_store_train['shop_id'].astype(int)\n",
    "df_y_pred['shop_id'] = df_y_pred['shop_id'].astype(int)"
   ]
  },
  {
   "cell_type": "code",
   "execution_count": null,
   "id": "08669035",
   "metadata": {
    "execution": {
     "iopub.execute_input": "2023-04-26T19:13:57.580411Z",
     "iopub.status.busy": "2023-04-26T19:13:57.580010Z",
     "iopub.status.idle": "2023-04-26T19:13:57.600786Z",
     "shell.execute_reply": "2023-04-26T19:13:57.599314Z",
     "shell.execute_reply.started": "2023-04-26T19:13:57.580378Z"
    },
    "papermill": {
     "duration": null,
     "end_time": null,
     "exception": null,
     "start_time": null,
     "status": "pending"
    },
    "tags": []
   },
   "outputs": [],
   "source": [
    "from sklearn.neighbors import KNeighborsClassifier\n",
    "from sklearn.metrics import accuracy_score\n",
    "    \n",
    "knn = KNeighborsClassifier(n_neighbors=13)\n",
    "\n",
    "df = np.array(df_y)\n",
    "\n",
    "knn.fit(df_store_train, df.ravel())\n",
    "\n",
    "y_pred = knn.predict(df_y_pred)\n",
    "\n",
    "df_test = df_test.drop(columns = ['shop_profile'])\n",
    "\n",
    "df_test['shop_profile'] = pd.DataFrame(y_pred)\n",
    "\n",
    "df_test['shop_profile'] = le.inverse_transform(df_test['shop_profile'])\n",
    "\n",
    "df_test.head()\n",
    "\n",
    "df_test.to_csv(\"predictions.csv\", index=False)"
   ]
  },
  {
   "cell_type": "code",
   "execution_count": null,
   "id": "e4767170",
   "metadata": {
    "execution": {
     "iopub.execute_input": "2023-04-26T17:10:11.886597Z",
     "iopub.status.busy": "2023-04-26T17:10:11.886168Z",
     "iopub.status.idle": "2023-04-26T17:10:11.897195Z",
     "shell.execute_reply": "2023-04-26T17:10:11.896007Z",
     "shell.execute_reply.started": "2023-04-26T17:10:11.886547Z"
    },
    "papermill": {
     "duration": null,
     "end_time": null,
     "exception": null,
     "start_time": null,
     "status": "pending"
    },
    "tags": []
   },
   "outputs": [],
   "source": [
    "le = LabelEncoder()\n",
    "\n",
    "y_test['shop_profile'] = le.fit_transform(y_test['shop_profile'])\n",
    "y_train['shop_profile'] = le.fit_transform(y_train['shop_profile'])\n",
    "X_train['shop_id'] = le.fit_transform(X_train['shop_id'])\n",
    "X_test['shop_id'] = le.fit_transform(X_test['shop_id'])\n",
    "\n",
    "X_train['shop_id'] = X_train['shop_id'].astype(int)\n",
    "X_test['shop_id'] = X_test['shop_id'].astype(int)"
   ]
  },
  {
   "cell_type": "code",
   "execution_count": null,
   "id": "343008d2",
   "metadata": {
    "execution": {
     "iopub.execute_input": "2023-04-26T17:37:32.149718Z",
     "iopub.status.busy": "2023-04-26T17:37:32.149295Z",
     "iopub.status.idle": "2023-04-26T17:37:32.166481Z",
     "shell.execute_reply": "2023-04-26T17:37:32.165295Z",
     "shell.execute_reply.started": "2023-04-26T17:37:32.149681Z"
    },
    "papermill": {
     "duration": null,
     "end_time": null,
     "exception": null,
     "start_time": null,
     "status": "pending"
    },
    "tags": []
   },
   "outputs": [],
   "source": [
    "from sklearn.neighbors import KNeighborsClassifier\n",
    "from sklearn.metrics import accuracy_score\n",
    "    \n",
    "knn = KNeighborsClassifier(n_neighbors=13)\n",
    "\n",
    "df = np.array(y_train)\n",
    "\n",
    "knn.fit(X_train, df.ravel())\n",
    "\n",
    "y_pred = knn.predict(X_test)\n",
    "\n",
    "accuracy = accuracy_score(y_test, y_pred)*100\n",
    "print(\"Accuracy:\", accuracy, \"%\")"
   ]
  },
  {
   "cell_type": "markdown",
   "id": "35c69fdb",
   "metadata": {
    "papermill": {
     "duration": null,
     "end_time": null,
     "exception": null,
     "start_time": null,
     "status": "pending"
    },
    "tags": []
   },
   "source": [
    "**Earlier Edits**"
   ]
  },
  {
   "cell_type": "code",
   "execution_count": null,
   "id": "9fd60ba8",
   "metadata": {
    "execution": {
     "iopub.execute_input": "2023-04-26T07:24:12.260437Z",
     "iopub.status.busy": "2023-04-26T07:24:12.260005Z",
     "iopub.status.idle": "2023-04-26T07:24:12.510360Z",
     "shell.execute_reply": "2023-04-26T07:24:12.508849Z",
     "shell.execute_reply.started": "2023-04-26T07:24:12.260398Z"
    },
    "papermill": {
     "duration": null,
     "end_time": null,
     "exception": null,
     "start_time": null,
     "status": "pending"
    },
    "tags": []
   },
   "outputs": [],
   "source": [
    "merged_df = pd.merge(df_transac, df_store[['shop_id', 'shop_area_sq_ft', 'shop_profile']], on='shop_id')\n",
    "\n",
    "mask = merged_df['shop_profile'].isnull()\n",
    "\n",
    "test_df = merged_df[mask]"
   ]
  },
  {
   "cell_type": "code",
   "execution_count": null,
   "id": "1f8ff155",
   "metadata": {
    "execution": {
     "iopub.execute_input": "2023-04-26T07:15:06.698639Z",
     "iopub.status.busy": "2023-04-26T07:15:06.698257Z",
     "iopub.status.idle": "2023-04-26T07:15:06.705367Z",
     "shell.execute_reply": "2023-04-26T07:15:06.704434Z",
     "shell.execute_reply.started": "2023-04-26T07:15:06.698606Z"
    },
    "papermill": {
     "duration": null,
     "end_time": null,
     "exception": null,
     "start_time": null,
     "status": "pending"
    },
    "tags": []
   },
   "outputs": [],
   "source": [
    "df_y = pd.DataFrame(merged_df['shop_profile'])"
   ]
  },
  {
   "cell_type": "code",
   "execution_count": null,
   "id": "e1649f69",
   "metadata": {
    "execution": {
     "iopub.execute_input": "2023-04-26T07:15:09.489359Z",
     "iopub.status.busy": "2023-04-26T07:15:09.488939Z",
     "iopub.status.idle": "2023-04-26T07:15:10.121892Z",
     "shell.execute_reply": "2023-04-26T07:15:10.120495Z",
     "shell.execute_reply.started": "2023-04-26T07:15:09.489321Z"
    },
    "papermill": {
     "duration": null,
     "end_time": null,
     "exception": null,
     "start_time": null,
     "status": "pending"
    },
    "tags": []
   },
   "outputs": [],
   "source": [
    "import seaborn as sns\n",
    "import matplotlib.pyplot as plt\n",
    "\n",
    "merged_df['shop_id'] = le.fit_transform(merged_df['shop_id'])\n",
    "\n",
    "df_transac2 = merged_df.drop(columns=['invoice_id','customer_id','transaction_date','item_description'])"
   ]
  }
 ],
 "metadata": {
  "kernelspec": {
   "display_name": "Python 3",
   "language": "python",
   "name": "python3"
  },
  "language_info": {
   "codemirror_mode": {
    "name": "ipython",
    "version": 3
   },
   "file_extension": ".py",
   "mimetype": "text/x-python",
   "name": "python",
   "nbconvert_exporter": "python",
   "pygments_lexer": "ipython3",
   "version": "3.7.12"
  },
  "papermill": {
   "default_parameters": {},
   "duration": 14.229587,
   "end_time": "2023-04-26T19:15:32.510830",
   "environment_variables": {},
   "exception": true,
   "input_path": "__notebook__.ipynb",
   "output_path": "__notebook__.ipynb",
   "parameters": {},
   "start_time": "2023-04-26T19:15:18.281243",
   "version": "2.4.0"
  }
 },
 "nbformat": 4,
 "nbformat_minor": 5
}
