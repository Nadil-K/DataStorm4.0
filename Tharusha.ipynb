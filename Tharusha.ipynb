{
 "cells": [
  {
   "cell_type": "code",
   "execution_count": 1,
   "id": "8d46a8a4",
   "metadata": {
    "_cell_guid": "b1076dfc-b9ad-4769-8c92-a6c4dae69d19",
    "_uuid": "8f2839f25d086af736a60e9eeb907d3b93b6e0e5",
    "execution": {
     "iopub.execute_input": "2023-04-26T09:21:30.833086Z",
     "iopub.status.busy": "2023-04-26T09:21:30.832700Z",
     "iopub.status.idle": "2023-04-26T09:21:30.845691Z",
     "shell.execute_reply": "2023-04-26T09:21:30.844446Z"
    },
    "papermill": {
     "duration": 0.020759,
     "end_time": "2023-04-26T09:21:30.848270",
     "exception": false,
     "start_time": "2023-04-26T09:21:30.827511",
     "status": "completed"
    },
    "tags": []
   },
   "outputs": [
    {
     "name": "stdout",
     "output_type": "stream",
     "text": [
      "/kaggle/input/data-storm-4/Data-dictionary.xlsx\n",
      "/kaggle/input/data-storm-4/DataStorm4.0_KaggleProblemStatement.pdf\n",
      "/kaggle/input/data-storm-4/Store-info.csv\n",
      "/kaggle/input/data-storm-4/Testing-data.csv\n",
      "/kaggle/input/data-storm-4/Historical-transaction-data.csv\n"
     ]
    }
   ],
   "source": [
    "# This Python 3 environment comes with many helpful analytics libraries installed\n",
    "# It is defined by the kaggle/python Docker image: https://github.com/kaggle/docker-python\n",
    "# For example, here's several helpful packages to load\n",
    "\n",
    "import numpy as np # linear algebra\n",
    "import pandas as pd # data processing, CSV file I/O (e.g. pd.read_csv)\n",
    "\n",
    "# Input data files are available in the read-only \"../input/\" directory\n",
    "# For example, running this (by clicking run or pressing Shift+Enter) will list all files under the input directory\n",
    "\n",
    "import os\n",
    "for dirname, _, filenames in os.walk('/kaggle/input'):\n",
    "    for filename in filenames:\n",
    "        print(os.path.join(dirname, filename))\n",
    "\n",
    "# You can write up to 20GB to the current directory (/kaggle/working/) that gets preserved as output when you create a version using \"Save & Run All\" \n",
    "# You can also write temporary files to /kaggle/temp/, but they won't be saved outside of the current session"
   ]
  },
  {
   "cell_type": "code",
   "execution_count": 2,
   "id": "17780bd2",
   "metadata": {
    "execution": {
     "iopub.execute_input": "2023-04-26T09:21:30.855805Z",
     "iopub.status.busy": "2023-04-26T09:21:30.854909Z",
     "iopub.status.idle": "2023-04-26T09:21:32.922467Z",
     "shell.execute_reply": "2023-04-26T09:21:32.921164Z"
    },
    "papermill": {
     "duration": 2.074507,
     "end_time": "2023-04-26T09:21:32.925492",
     "exception": false,
     "start_time": "2023-04-26T09:21:30.850985",
     "status": "completed"
    },
    "tags": []
   },
   "outputs": [],
   "source": [
    "from sklearn.preprocessing import LabelEncoder\n",
    "\n",
    "df_store = pd.read_csv('/kaggle/input/data-storm-4/Store-info.csv')\n",
    "df_test = pd.read_csv('/kaggle/input/data-storm-4/Testing-data.csv')\n",
    "df_transac = pd.read_csv('/kaggle/input/data-storm-4/Historical-transaction-data.csv')\n",
    "\n",
    "le = LabelEncoder()\n",
    "\n",
    "df_store['shop_profile'] = le.fit_transform(df_store['shop_profile'])\n",
    "df_test['shop_id'] = le.fit_transform(df_test['shop_id'])\n",
    "\n",
    "df_store_train = df_store.head(100)\n",
    "df_store_test = df_store.tail(24)\n",
    "\n",
    "df_test['shop_id'] = df_test['shop_id'].astype(int)"
   ]
  },
  {
   "cell_type": "code",
   "execution_count": 3,
   "id": "a1ce9d2b",
   "metadata": {
    "execution": {
     "iopub.execute_input": "2023-04-26T09:21:32.932185Z",
     "iopub.status.busy": "2023-04-26T09:21:32.931731Z",
     "iopub.status.idle": "2023-04-26T09:21:33.241673Z",
     "shell.execute_reply": "2023-04-26T09:21:33.240649Z"
    },
    "papermill": {
     "duration": 0.316545,
     "end_time": "2023-04-26T09:21:33.244554",
     "exception": false,
     "start_time": "2023-04-26T09:21:32.928009",
     "status": "completed"
    },
    "tags": []
   },
   "outputs": [],
   "source": [
    "merged_df = pd.merge(df_transac, df_store[['shop_id', 'shop_area_sq_ft', 'shop_profile']], on='shop_id')\n",
    "\n",
    "mask = merged_df['shop_profile'].isnull()\n",
    "\n",
    "test_df = merged_df[mask]"
   ]
  },
  {
   "cell_type": "code",
   "execution_count": 4,
   "id": "18a2c952",
   "metadata": {
    "execution": {
     "iopub.execute_input": "2023-04-26T09:21:33.253396Z",
     "iopub.status.busy": "2023-04-26T09:21:33.252055Z",
     "iopub.status.idle": "2023-04-26T09:21:33.259550Z",
     "shell.execute_reply": "2023-04-26T09:21:33.258614Z"
    },
    "papermill": {
     "duration": 0.013626,
     "end_time": "2023-04-26T09:21:33.261904",
     "exception": false,
     "start_time": "2023-04-26T09:21:33.248278",
     "status": "completed"
    },
    "tags": []
   },
   "outputs": [],
   "source": [
    "df_y = pd.DataFrame(merged_df['shop_profile'])"
   ]
  },
  {
   "cell_type": "code",
   "execution_count": 5,
   "id": "bcb85a6e",
   "metadata": {
    "execution": {
     "iopub.execute_input": "2023-04-26T09:21:33.269224Z",
     "iopub.status.busy": "2023-04-26T09:21:33.268096Z",
     "iopub.status.idle": "2023-04-26T09:21:33.716627Z",
     "shell.execute_reply": "2023-04-26T09:21:33.715482Z"
    },
    "papermill": {
     "duration": 0.45503,
     "end_time": "2023-04-26T09:21:33.719442",
     "exception": false,
     "start_time": "2023-04-26T09:21:33.264412",
     "status": "completed"
    },
    "tags": []
   },
   "outputs": [],
   "source": [
    "import seaborn as sns\n",
    "import matplotlib.pyplot as plt\n",
    "\n",
    "merged_df['shop_id'] = le.fit_transform(merged_df['shop_id'])\n",
    "\n",
    "df_transac2 = merged_df.drop(columns=['invoice_id','customer_id','transaction_date','item_description'])"
   ]
  }
 ],
 "metadata": {
  "kernelspec": {
   "display_name": "Python 3",
   "language": "python",
   "name": "python3"
  },
  "language_info": {
   "codemirror_mode": {
    "name": "ipython",
    "version": 3
   },
   "file_extension": ".py",
   "mimetype": "text/x-python",
   "name": "python",
   "nbconvert_exporter": "python",
   "pygments_lexer": "ipython3",
   "version": "3.7.12"
  },
  "papermill": {
   "default_parameters": {},
   "duration": 14.084259,
   "end_time": "2023-04-26T09:21:34.544309",
   "environment_variables": {},
   "exception": null,
   "input_path": "__notebook__.ipynb",
   "output_path": "__notebook__.ipynb",
   "parameters": {},
   "start_time": "2023-04-26T09:21:20.460050",
   "version": "2.4.0"
  }
 },
 "nbformat": 4,
 "nbformat_minor": 5
}
